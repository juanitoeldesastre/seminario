{
  "nbformat": 4,
  "nbformat_minor": 0,
  "metadata": {
    "colab": {
      "provenance": [],
      "mount_file_id": "1rpNDM9Op88X1cFe70NXhEsUWPcE1P3B7",
      "authorship_tag": "ABX9TyPX8Y4gpVzUUhT3+fuDCZUl",
      "include_colab_link": true
    },
    "kernelspec": {
      "name": "python3",
      "display_name": "Python 3"
    },
    "language_info": {
      "name": "python"
    }
  },
  "cells": [
    {
      "cell_type": "markdown",
      "metadata": {
        "id": "view-in-github",
        "colab_type": "text"
      },
      "source": [
        "<a href=\"https://colab.research.google.com/github/juanitoeldesastre/seminario1/blob/main/datos_csv.ipynb\" target=\"_parent\"><img src=\"https://colab.research.google.com/assets/colab-badge.svg\" alt=\"Open In Colab\"/></a>"
      ]
    },
    {
      "cell_type": "code",
      "execution_count": 6,
      "metadata": {
        "id": "efLt0GmEFGhf"
      },
      "outputs": [],
      "source": [
        "import numpy as np\n",
        "import pandas as pd\n",
        "\n",
        "#guardar semilla\n",
        "np.random.seed(42)\n",
        "\n",
        "#generar daos ventas\n",
        "\n",
        "def generar_datos_venta(nombre_empresa, productos, start, end):\n",
        "  meses = pd.date_range(start=start,end=end,freq='M')\n",
        "  datos_ventas = pd.DataFrame({\n",
        "      'Meses':meses,\n",
        "      **{producto:np.random.randint(1000,5000,size=len(meses)) for producto in productos}\n",
        "\n",
        "         })\n",
        "\n",
        "  #guardar el dataframe como csv\n",
        "  datos_ventas.to_csv(f'/content/{nombre_empresa}.csv', index=False)\n",
        "\n",
        "#definir nombre de las empresas\n",
        "empresas = {\n",
        "    'Heladeria':['Chocolate','Fresa','Vainilla','Mango'],\n",
        "    'Restaurante':['Pasta','Pizza','Ensalada','Sushi'],\n",
        "    'Clothing_store':['Camisas','Pantalones','Vestidos','Blusas'],\n",
        "    'Librería':['Ficcion','No Ficcion','Historia','Cultura']\n",
        "}\n",
        "\n",
        "#generar los datos y guardarlos como csv\n",
        "for nombre_empresa,productos in empresas.items():\n",
        "  generar_datos_venta(nombre_empresa,productos,'2020-01-01','2024-09-30')\n"
      ]
    },
    {
      "cell_type": "code",
      "source": [
        "import pandas as pd\n",
        "import glob\n",
        "\n",
        "# Función para leer y resumir los datos de ventas\n",
        "def resumir_datos_ventas(ruta_archivos):\n",
        "    # Crear un diccionario para almacenar los resúmenes\n",
        "    resumen_empresas = {}\n",
        "\n",
        "    # Leer todos los archivos CSV en la ruta especificada\n",
        "    for archivo in glob.glob(ruta_archivos):\n",
        "        # Leer el archivo CSV\n",
        "        df = pd.read_csv(archivo)\n",
        "\n",
        "        # Obtener el nombre de la empresa desde el nombre del archivo\n",
        "        nombre_empresa = archivo.split('/')[-1].replace('.csv', '')\n",
        "\n",
        "        # Calcular las ventas totales y el promedio mensual por producto\n",
        "        total_ventas = df.iloc[:, 1:].sum()\n",
        "        promedio_mensual = df.iloc[:, 1:].mean()\n",
        "\n",
        "        # Almacenar el resumen en el diccionario\n",
        "        resumen_empresas[nombre_empresa] = pd.DataFrame({\n",
        "            'Total Ventas': total_ventas,\n",
        "            'Promedio Mensual': promedio_mensual\n",
        "        })\n",
        "\n",
        "    return resumen_empresas\n",
        "\n",
        "# Definir la ruta donde están los archivos CSV\n",
        "ruta_archivos = '/content/*.csv'\n",
        "\n",
        "# Llamar a la función y obtener el resumen\n",
        "resumen = resumir_datos_ventas(ruta_archivos)\n",
        "\n",
        "# Imprimir el resumen para cada empresa\n",
        "for nombre_empresa, datos in resumen.items():\n",
        "    print(f\"Resumen de {nombre_empresa}:\\n{datos}\\n\")\n"
      ],
      "metadata": {
        "colab": {
          "base_uri": "https://localhost:8080/"
        },
        "id": "UtmGpT25KHQ2",
        "outputId": "6687c64e-e807-448c-da95-3c2c8cc710b4"
      },
      "execution_count": 8,
      "outputs": [
        {
          "output_type": "stream",
          "name": "stdout",
          "text": [
            "Resumen de Clothing_store:\n",
            "            Total Ventas  Promedio Mensual\n",
            "Camisas           171237       3004.157895\n",
            "Pantalones        170414       2989.719298\n",
            "Vestidos          160898       2822.771930\n",
            "Blusas            181355       3181.666667\n",
            "\n",
            "Resumen de Librería:\n",
            "            Total Ventas  Promedio Mensual\n",
            "Ficcion           176120       3089.824561\n",
            "No Ficcion        177187       3108.543860\n",
            "Historia          182690       3205.087719\n",
            "Cultura           156338       2742.771930\n",
            "\n",
            "Resumen de Heladeria:\n",
            "           Total Ventas  Promedio Mensual\n",
            "Chocolate        173585       3045.350877\n",
            "Fresa            181984       3192.701754\n",
            "Vainilla         171388       3006.807018\n",
            "Mango            177981       3122.473684\n",
            "\n",
            "Resumen de Restaurante:\n",
            "          Total Ventas  Promedio Mensual\n",
            "Pasta           183931       3226.859649\n",
            "Pizza           166282       2917.228070\n",
            "Ensalada        170381       2989.140351\n",
            "Sushi           165179       2897.877193\n",
            "\n"
          ]
        }
      ]
    }
  ]
}